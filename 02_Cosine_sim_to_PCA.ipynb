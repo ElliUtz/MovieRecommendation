{
 "cells": [
  {
   "cell_type": "code",
   "execution_count": 39,
   "metadata": {
    "collapsed": true
   },
   "outputs": [],
   "source": [
    "import numpy as np\n",
    "import pandas as pd\n",
    "\n",
    "\n",
    "cosine_distance = np.load('app/static/npy/cosine_sim.npy')\n",
    "cosine_sim = cosine_distance*-1 + 1\n",
    "\n",
    "raw_data = pd.read_csv('app/static/datasets/netflix_titles.csv') #read data\n",
    "\n",
    "indices = pd.Series(raw_data['title'])"
   ]
  },
  {
   "cell_type": "code",
   "execution_count": 65,
   "outputs": [],
   "source": [
    "number_of_neighbors = 101 #number of indexes will taken from KNN (number of recommended movies)"
   ],
   "metadata": {
    "collapsed": false,
    "pycharm": {
     "name": "#%%\n"
    }
   }
  },
  {
   "cell_type": "code",
   "execution_count": 66,
   "outputs": [],
   "source": [
    "\n",
    "from sklearn.decomposition import PCA\n",
    "pca = PCA(0.99) #give the number of dimmentions\n",
    "X_PCA = pca.fit_transform(cosine_distance)\n",
    "\n",
    "np.save('app/static/npy/pca.npy', X_PCA)"
   ],
   "metadata": {
    "collapsed": false,
    "pycharm": {
     "name": "#%%\n"
    }
   }
  },
  {
   "cell_type": "code",
   "execution_count": 67,
   "outputs": [
    {
     "data": {
      "text/plain": "NearestNeighbors(algorithm='kd_tree', leaf_size=30, metric='cityblock',\n                 metric_params=None, n_jobs=None, n_neighbors=101, p=2,\n                 radius=1.0)"
     },
     "execution_count": 67,
     "metadata": {},
     "output_type": "execute_result"
    }
   ],
   "source": [
    "from sklearn.neighbors import NearestNeighbors\n",
    "KNN_PCA = NearestNeighbors(n_neighbors=number_of_neighbors , algorithm='kd_tree', metric= 'cityblock')\n",
    "KNN_PCA.fit(X_PCA)\n",
    "#cityblock - 66\n",
    "#l1 -62\n",
    "#manhattan = 62"
   ],
   "metadata": {
    "collapsed": false,
    "pycharm": {
     "name": "#%%\n"
    }
   }
  },
  {
   "cell_type": "code",
   "execution_count": 68,
   "outputs": [
    {
     "data": {
      "text/plain": "NearestNeighbors(algorithm='kd_tree', leaf_size=1, metric='chebyshev',\n                 metric_params=None, n_jobs=None, n_neighbors=101, p=2,\n                 radius=1.0)"
     },
     "execution_count": 68,
     "metadata": {},
     "output_type": "execute_result"
    }
   ],
   "source": [
    "KNN_distance = NearestNeighbors(n_neighbors=number_of_neighbors, algorithm='kd_tree', leaf_size=1, metric= 'chebyshev')\n",
    "KNN_distance.fit(cosine_distance)\n",
    "\n",
    "#chebyshev - 86"
   ],
   "metadata": {
    "collapsed": false,
    "pycharm": {
     "name": "#%%\n"
    }
   }
  },
  {
   "cell_type": "code",
   "execution_count": 69,
   "outputs": [],
   "source": [
    "\n",
    "def recommendations_cosine(title):\n",
    "\n",
    "    recommended_movies = []\n",
    "\n",
    "    # gettin the index of the movie that matches the title\n",
    "    idx = indices[indices == title].index[0]\n",
    "\n",
    "    # creating a Series with the similarity scores in descending order\n",
    "    score_series = pd.Series(cosine_distance[idx]).sort_values(ascending = True)\n",
    "\n",
    "    #print(score_series)\n",
    "    # getting the indexes of the 10 most similar movies\n",
    "    top_10_indexes = list(score_series.iloc[1:number_of_neighbors].index)\n",
    "    # populating the list with the titles of the best 10 matching movies\n",
    "    for i in top_10_indexes:\n",
    "        recommended_movies.append(list(raw_data['title'])[i])\n",
    "\n",
    "    return recommended_movies\n",
    "\n",
    "\n",
    "def recommendations_knn_pca(title):\n",
    "\n",
    "    idx = indices[indices == title].index[0]\n",
    "\n",
    "    coordinates = X_PCA[idx]\n",
    "    # print(neigh.kneighbors([coordinates]))\n",
    "\n",
    "    top_10_knn = KNN_PCA.kneighbors([coordinates])\n",
    "    # getting the indexes of the 10 most similar movies\n",
    "    top_10_indexes = list(top_10_knn[1][0])\n",
    "    top_10_indexes.pop(0)\n",
    "\n",
    "    recommended_movies = []\n",
    "\n",
    "\n",
    "    # populating the list with the titles of the best 10 matching movies\n",
    "    for i in top_10_indexes:\n",
    "        recommended_movies.append(list(raw_data['title'])[i])\n",
    "\n",
    "    return  recommended_movies\n",
    "\n",
    "\n"
   ],
   "metadata": {
    "collapsed": false,
    "pycharm": {
     "name": "#%%\n"
    }
   }
  },
  {
   "cell_type": "code",
   "execution_count": 70,
   "outputs": [
    {
     "name": "stdout",
     "output_type": "stream",
     "text": [
      "['Solo: A Star Wars Story', 'LEGO Marvel Super Heroes: Guardians of the Galaxy', 'Star Wars: Episode VIII: The Last Jedi', 'Black Panther', 'Indiana Jones and the Kingdom of the Crystal Skull', 'Avengers: Infinity War', 'Spider-Man 3', 'Skyline', 'Scorpion King 5: Book of Souls', 'Æon Flux', 'Dragonheart: Battle for the Heartfire', 'Next', 'Superman Returns', 'Hulk Vs.', 'Dragonheart', 'Season of the Witch', 'Beary Tales', 'Dragonheart 3: The Sorcerer', 'Polar', 'Thor: Ragnarok', 'Hellboy', 'The Space Between Us', 'Space Cowboys', 'Indiana Jones and the Last Crusade', 'John Carter', \"Cirque du Freak: The Vampire's Assistant\", 'Small Soldiers', 'The Lord of the Rings: The Two Towers', 'Cloverfield', 'The Lord of the Rings: The Return of the King', 'Wyatt Earp', 'Takers', 'Godzilla', 'Men in Black II', 'The River Wild', 'Legion', 'Jupiter Ascending', 'Ant-Man and the Wasp', \"Ocean's Twelve\", 'The Matrix Revolutions', 'Limitless', 'Wild Wild West', \"Dante's Peak\", 'Austin Powers: The Spy Who Shagged Me', 'The Matrix Reloaded', 'Ghost Rider', 'Tracers', 'Men in Black', 'Virunga: Gorillas in Peril', '9', 'The Book of Eli', 'XXX: State of the Union', \"Roger Corman's Death Race 2050\", 'The Time Machine', 'Clash of the Titans', 'The Hurricane Heist', 'The Matrix', 'Halo: The Fall of Reach', \"Charlie's Angels: Full Throttle\", 'The Cloverfield Paradox', 'Doom: Annihilation', 'Dragonheart: A New Beginning', 'The Imaginarium of Doctor Parnassus', \"Marvel's Hulk: Where Monsters Dwell\", 'An American Tail: The Mystery of the Night Monster', 'Vantage Point', 'End of Watch', 'Selfless', 'Inkheart', 'F.R.E.D.I.', 'Starsky & Hutch', 'The Forbidden Kingdom', 'Get Smart', 'Jimmy Neutron: Boy Genius', 'Grand-Daddy Day Care', 'How It Ends', 'The Tuxedo', 'Lady in the Water', 'The Road to El Camino: Behind the Scenes of El Camino: A Breaking Bad Movie', 'World Trade Center', 'An American Tail: The Treasures of Manhattan Island', '10,000 B.C.', 'An American Tail', 'Marvel Super Hero Adventures: Frost Fight!', 'Equilibrium', 'Austin Powers in Goldmember', 'Inception', 'Tarzan 2', 'Iron Man & Captain America: Heroes United', 'USS Indianapolis: Men of Courage', 'Bright', 'Code Name: The Cleaner', 'The Brothers Grimm', 'Tarzan', 'Spookley the Square Pumpkin', 'Mowgli: Legend of the Jungle', 'Tremors 4: The Legend Begins', 'National Treasure', 'XXx', 'Red Dawn']\n",
      "['Solo: A Star Wars Story', 'Power Rangers Super Samurai: Stuck on Christmas', 'LEGO Marvel Super Heroes: Guardians of the Galaxy', 'Power Rangers Samurai: Clash of the Red Rangers', 'Star Wars: Episode VIII: The Last Jedi', 'Power Rangers: Megaforce: Raising Spirits', 'Indiana Jones and the Kingdom of the Crystal Skull', 'Power Rangers: Megaforce: The Robo Knight Before Christmas', 'The Matrix', 'Indiana Jones and the Last Crusade', 'Generation Iron 2', 'Power Rangers Super Samurai: Trickster Treat', 'Power Rangers Samurai: Party Monsters (Halloween Special)', 'Skyline', 'Black Panther', 'Virunga: Gorillas in Peril', 'Donald Glover: Weirdo', 'NOVA: Bird Brain', 'Power Rangers Samurai: Christmas Together, Friends Forever (Christmas Special)', 'Dragonheart: Battle for the Heartfire', 'Louis C.K.: Live at the Comedy Store', 'Louis C.K.: Hilarious', \"Jeremy Scott: The People's Designer\", 'Power Rangers Super Megaforce: The Legendary Battle (Extended)', 'Monster High: Escape from Skull Shores', 'Louis C.K. 2017', 'The Matrix Revolutions', 'Monster High: Friday Night Frights', 'Spider-Man 3', 'Hulk Vs.', 'Season of the Witch', 'Beary Tales', 'My Little Pony Equestria Girls: Forgotten Friendship', 'Scorpion King 5: Book of Souls', 'Iliza Shlesinger: War Paint', 'The Matrix Reloaded', 'Monster High: Why Do Ghouls Fall in Love?', 'Dragonheart 3: The Sorcerer', 'Æon Flux', 'Monster High: Freaky Fusion', 'Superman Returns', 'Avengers: Infinity War', 'Dragonheart', 'Austin Powers: The Spy Who Shagged Me', 'Lo and Behold: Reveries of the Connected World', 'The Hurt Business', 'Dragonheart: A New Beginning', 'Kevin Hart: Laugh at My Pain', 'Kevin Hart: Let Me Explain', 'Rocky V', 'My Little Pony Equestria Girls: Friendship Games', 'Bill Burr: You People Are All the Same', 'Hellboy', 'The Lord of the Rings: The Two Towers', 'Indiana Jones and the Temple of Doom', 'LEGO: Marvel Super Heroes: Maximum Overload', 'Rocky', 'Monster High: Great Scarrier Reef', \"Dante's Peak\", \"Bill Burr: I'm Sorry You Feel That Way\", 'Austin Powers in Goldmember', 'Rocky IV', 'Thor: Ragnarok', 'Next', 'Tremors 4: The Legend Begins', 'Sam Kinison: Family Entertainment Hour', 'Katt Williams: Kattpacalypse', 'Dolphin Kick', 'Rocky II', 'My Little Pony Friendship Is Magic: Best Gift Ever', 'Monster High: New Ghoul at School', 'NOVA: Day the Dinosaurs Died', \"Super Monsters: Vida's First Halloween\", 'Rocky III', 'The Space Between Us', 'Monster High: Fright On!', 'Iron Man & Captain America: Heroes United', 'Indiana Jones and the Raiders of the Lost Ark', 'Bill Burr: Let It Go', 'The Lord of the Rings: The Return of the King', 'From One Second to the Next', 'Chelsea Peretti: One of the Greats', 'Smash: Motorized Mayhem', 'Tracers', 'Otherhood', 'Roll With Me', 'Ronnie Coleman: The King', 'Monster High: Scaris, City of Frights', 'John Mulaney: New in Town', 'Doom: Annihilation', 'Sam Kinison: Breaking the Rules', \"Marvel's Hulk: Where Monsters Dwell\", 'Escape from Mr. Lemoncello’s Library', 'Marvel Super Hero Adventures: Frost Fight!', 'Katt Williams: Live', \"Charlotte's Web\", \"Logan's Run\", 'XXx', 'Polar', \"Cirque du Freak: The Vampire's Assistant\"]\n"
     ]
    }
   ],
   "source": [
    "name = 'Solo: A Star Wars Story (Spanish Version)'\n",
    "\n",
    "print(recommendations_cosine(name))\n",
    "print(recommendations_knn_pca(name))"
   ],
   "metadata": {
    "collapsed": false,
    "pycharm": {
     "name": "#%%\n"
    }
   }
  },
  {
   "cell_type": "code",
   "execution_count": 71,
   "outputs": [],
   "source": [
    "\n",
    "def get_top100_indexes_cosine_dis(idx):\n",
    "\n",
    "    # creating a Series with the similarity scores in descending order\n",
    "    score_series = pd.Series(cosine_distance[idx]).sort_values(ascending = True)\n",
    "\n",
    "    # getting the indexes of the 10 most similar movies\n",
    "    top_100_indexes = list(score_series.iloc[1:number_of_neighbors].index)\n",
    "\n",
    "    return top_100_indexes\n",
    "\n",
    "def get_top100_indexes_cosine_sim(idx):\n",
    "\n",
    "    # creating a Series with the similarity scores in descending order\n",
    "    score_series = pd.Series(cosine_sim[idx]).sort_values(ascending = False)\n",
    "\n",
    "    # getting the indexes of the 10 most similar movies\n",
    "    top_100_indexes = list(score_series.iloc[1:number_of_neighbors].index)\n",
    "\n",
    "    return top_100_indexes\n",
    "\n",
    "def get_top100_indexes_pca(idx):\n",
    "\n",
    "    coordinates = X_PCA[idx]\n",
    "    #print(neigh.kneighbors([coordinates]))\n",
    "\n",
    "    top_100_knn = KNN_PCA.kneighbors([coordinates])\n",
    "    # getting the indexes of the 10 most similar movies\n",
    "    top_100_indexes = list(top_100_knn[1][0])\n",
    "    top_100_indexes.pop(0)\n",
    "\n",
    "\n",
    "    return top_100_indexes\n",
    "\n",
    "def get_top100_indexes_cos_distance_knn(idx):\n",
    "\n",
    "    coordinates = cosine_distance[idx]\n",
    "    #print(neigh.kneighbors([coordinates]))\n",
    "\n",
    "    top_100_knn = KNN_distance.kneighbors([coordinates])\n",
    "    # getting the indexes of the 10 most similar movies\n",
    "    top_100_indexes = list(top_100_knn[1][0])\n",
    "    top_100_indexes.pop(0)\n",
    "    return top_100_indexes"
   ],
   "metadata": {
    "collapsed": false,
    "pycharm": {
     "name": "#%%\n"
    }
   }
  },
  {
   "cell_type": "code",
   "execution_count": 72,
   "outputs": [],
   "source": [
    "results_pca = []\n",
    "results_mds = []\n",
    "result_dis_sim = []\n",
    "result_distance= []\n",
    "# cosine_distance.shape[0]\n",
    "for i in range(cosine_distance.shape[0]): #go through all movies and take the recommended films.\n",
    "\n",
    "    top_100_dis = get_top100_indexes_cosine_dis(i)\n",
    "    top_100_sim = get_top100_indexes_cosine_sim(i)\n",
    "    top_100_pca = get_top100_indexes_pca(i)\n",
    "    top_100_distance_knn = get_top100_indexes_cos_distance_knn(i)\n",
    "    result_dis_sim.append(len(set(top_100_dis).intersection(top_100_sim))/len(set(top_100_dis)))\n",
    "    results_pca.append(len(set(top_100_dis).intersection(top_100_pca))/len(set(top_100_dis)))\n",
    "    result_distance.append(len(set(top_100_sim).intersection(top_100_distance_knn))/len(set(top_100_dis)))"
   ],
   "metadata": {
    "collapsed": false,
    "pycharm": {
     "name": "#%%\n"
    }
   }
  },
  {
   "cell_type": "code",
   "execution_count": 73,
   "outputs": [
    {
     "name": "stdout",
     "output_type": "stream",
     "text": [
      "accuracy between original cosine and cosine distance matrix = 0.9984712864934232\n",
      "accuracy between original cosine and pca knn = 0.639990375360924\n",
      "accuracy between original cosine and cosine distance knn = 0.831082771896054\n"
     ]
    }
   ],
   "source": [
    "result_array_dis_sim = np.array(result_dis_sim)\n",
    "print(f'accuracy between original cosine and cosine distance matrix = {result_array_dis_sim.mean()}')\n",
    "\n",
    "result_array_pca = np.array(results_pca)\n",
    "print(f'accuracy between original cosine and pca knn = {result_array_pca.mean()}')\n",
    "\n",
    "result_array_distance_knn = np.array(result_distance)\n",
    "print(f'accuracy between original cosine and cosine distance knn = {result_array_distance_knn.mean()}')\n"
   ],
   "metadata": {
    "collapsed": false,
    "pycharm": {
     "name": "#%%\n"
    }
   }
  },
  {
   "cell_type": "code",
   "execution_count": 49,
   "outputs": [
    {
     "name": "stderr",
     "output_type": "stream",
     "text": [
      "/home/sotpak/anaconda3/lib/python3.7/site-packages/ipykernel_launcher.py:15: DeprecationWarning: scipy.rand is deprecated and will be removed in SciPy 2.0.0, use numpy.random.rand instead\n",
      "  from ipykernel import kernelapp as app\n",
      "/home/sotpak/anaconda3/lib/python3.7/site-packages/ipykernel_launcher.py:16: DeprecationWarning: scipy.zeros is deprecated and will be removed in SciPy 2.0.0, use numpy.zeros instead\n",
      "  app.launch_new_instance()\n",
      "/home/sotpak/anaconda3/lib/python3.7/site-packages/ipykernel_launcher.py:24: ClusterWarning: scipy.cluster: The symmetric non-negative hollow observation matrix looks suspiciously like an uncondensed distance matrix\n",
      "/home/sotpak/anaconda3/lib/python3.7/site-packages/ipykernel_launcher.py:43: UserWarning: Matplotlib is currently using module://ipykernel.pylab.backend_inline, which is a non-GUI backend, so cannot show the figure.\n"
     ]
    },
    {
     "data": {
      "text/plain": "<Figure size 432x288 with 3 Axes>",
      "image/png": "[encoded data removed]"
     },
     "metadata": {
      "needs_background": "light"
     },
     "output_type": "display_data"
    }
   ],
   "source": [
    "\n",
    "#######################################################\n",
    "#######################################################\n",
    "#######################################################\n",
    "#######################################################\n",
    "#######################################################\n",
    "#######################################################\n",
    "\n",
    "\n",
    "\n",
    "import scipy\n",
    "import pylab\n",
    "import scipy.cluster.hierarchy as sch\n",
    "\n",
    "# Generate features and distance matrix.\n",
    "x = scipy.rand(40)\n",
    "D = scipy.zeros([40,40])\n",
    "for i in range(40):\n",
    "    for j in range(40):\n",
    "        D[i,j] = abs(x[i] - x[j])\n",
    "#D = cosine_sim\n",
    "# Compute and plot dendrogram.\n",
    "fig = pylab.figure()\n",
    "axdendro = fig.add_axes([0.09,0.1,0.2,0.8])\n",
    "Y = sch.linkage(D, method='centroid')\n",
    "Z = sch.dendrogram(Y, orientation='right')\n",
    "axdendro.set_xticks([])\n",
    "axdendro.set_yticks([])\n",
    "\n",
    "# Plot distance matrix.\n",
    "axmatrix = fig.add_axes([0.3,0.1,0.6,0.8])\n",
    "index = Z['leaves']\n",
    "D = D[index,:]\n",
    "D = D[:,index]\n",
    "im = axmatrix.matshow(D, aspect='auto', origin='lower')\n",
    "axmatrix.set_xticks([])\n",
    "axmatrix.set_yticks([])\n",
    "\n",
    "# Plot colorbar.\n",
    "axcolor = fig.add_axes([0.91,0.1,0.02,0.8])\n",
    "pylab.colorbar(im, cax=axcolor)\n",
    "\n",
    "# Display and save figure.\n",
    "fig.show()\n",
    "fig.savefig('dendrogram.png')\n"
   ],
   "metadata": {
    "collapsed": false,
    "pycharm": {
     "name": "#%%\n"
    }
   }
  }
 ],
 "metadata": {
  "kernelspec": {
   "display_name": "Python 3",
   "language": "python",
   "name": "python3"
  },
  "language_info": {
   "codemirror_mode": {
    "name": "ipython",
    "version": 2
   },
   "file_extension": ".py",
   "mimetype": "text/x-python",
   "name": "python",
   "nbconvert_exporter": "python",
   "pygments_lexer": "ipython2",
   "version": "2.7.6"
  }
 },
 "nbformat": 4,
 "nbformat_minor": 0
}